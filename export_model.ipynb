{
  "cells": [
    {
      "cell_type": "code",
      "execution_count": 9,
      "metadata": {},
      "outputs": [],
      "source": [
        "# Export XGBoost model and artifacts for smart triage UI\n",
        "\n",
        "# 1) Imports and setup\n",
        "import os\n",
        "import json\n",
        "import numpy as np\n",
        "import pandas as pd\n",
        "from sklearn.model_selection import train_test_split\n",
        "from sklearn.preprocessing import LabelEncoder\n",
        "from imblearn.pipeline import Pipeline\n",
        "from imblearn.over_sampling import SMOTE\n",
        "from sklearn.metrics import classification_report\n",
        "import xgboost as xgb\n",
        "\n",
        "from sklearn.feature_extraction.text import TfidfVectorizer\n",
        "from model_utils import save_model_artifacts\n",
        "from feature_engineering import TextFeatureExtractor\n",
        "\n",
        "RANDOM_STATE = 42\n",
        "OUTPUT_DIR = 'model_artifacts'\n"
      ]
    },
    {
      "cell_type": "code",
      "execution_count": 10,
      "metadata": {},
      "outputs": [],
      "source": [
        "# 2) Load processed data and define targets consistent with training\n",
        "\n",
        "df = pd.read_csv('github_issues_processed.csv')\n",
        "\n",
        "cat_targets = [\n",
        "    'is_bug_cat','is_feature_cat','is_doc_cat',\n",
        "    'is_help_cat','is_priority_cat','is_status_cat'\n",
        "]\n",
        "df['category'] = df[cat_targets].idxmax(axis=1)\n",
        "\n",
        "label_targets = [col for col in df.columns if col.startswith('has_')]\n",
        "\n",
        "exclude = cat_targets + label_targets + ['n_labels', 'category']\n",
        "X = df.drop(columns=exclude)\n",
        "y_cat = df['category']\n"
      ]
    },
    {
      "cell_type": "code",
      "execution_count": 11,
      "metadata": {},
      "outputs": [],
      "source": [
        "# 3) Train/test split (same split strategy)\n",
        "X_train, X_test, y_cat_train, y_cat_test = train_test_split(\n",
        "    X, y_cat, test_size=0.2, random_state=RANDOM_STATE, stratify=y_cat\n",
        ")\n"
      ]
    },
    {
      "cell_type": "code",
      "execution_count": 13,
      "metadata": {},
      "outputs": [],
      "source": [
        "# 4) Fit vectorizers/encoders exactly as used downstream\n",
        "# Fit LabelEncoder on training categories (matching training notebook flow)\n",
        "label_encoder = LabelEncoder()\n",
        "y_cat_train_encoded = label_encoder.fit_transform(y_cat_train)\n",
        "y_cat_test_encoded = label_encoder.transform(y_cat_test)\n",
        "\n",
        "# Fit repository encoder from raw data (processed data only has repo_encoded)\n",
        "repo_encoder = LabelEncoder()\n",
        "raw_df = pd.read_csv('github_issues.csv', usecols=['title', 'body', 'repo_name'])\n",
        "repo_series = raw_df['repo_name'].astype(str).fillna('unknown_repo')\n",
        "repo_encoder.fit(repo_series)\n",
        "\n",
        "# Fit TF-IDF on combined text from raw title+body to mirror inference\n",
        "# For export, we only need the fitted vectorizer to match inference; training here uses processed X.\n",
        "tfidf = TfidfVectorizer(max_features=250, stop_words='english', ngram_range=(1,2))\n",
        "combined_text = raw_df[['title', 'body']].fillna('').apply(lambda x: ' '.join(x), axis=1)\n",
        "tfidf.fit(combined_text)\n",
        "\n",
        "# Feature extractor (used only for UI/inference, not training here)\n",
        "feature_extractor = TextFeatureExtractor(tfidf)\n"
      ]
    },
    {
      "cell_type": "code",
      "execution_count": 14,
      "metadata": {},
      "outputs": [],
      "source": [
        "# 5) Configure XGBoost exactly as training notebook\n",
        "xgb_config = {\n",
        "    'n_estimators': 200,\n",
        "    'learning_rate': 0.1,\n",
        "    'max_depth': 5,\n",
        "    'min_child_weight': 2,\n",
        "    'subsample': 0.8,\n",
        "    'colsample_bytree': 0.8,\n",
        "    'random_state': RANDOM_STATE,\n",
        "    'n_jobs': -1,\n",
        "    'objective': 'multi:softprob'\n",
        "}\n",
        "\n",
        "# Set num_class from training labels\n",
        "xgb_config['num_class'] = len(np.unique(y_cat_train_encoded))\n"
      ]
    },
    {
      "cell_type": "code",
      "execution_count": 15,
      "metadata": {},
      "outputs": [
        {
          "name": "stdout",
          "output_type": "stream",
          "text": [
            "XGBoost with SMOTE — quick eval on holdout\n",
            "                 precision    recall  f1-score   support\n",
            "\n",
            "     is_bug_cat       0.96      0.99      0.97      2961\n",
            "     is_doc_cat       0.52      0.35      0.42        79\n",
            " is_feature_cat       0.64      0.35      0.45       119\n",
            "    is_help_cat       0.00      0.00      0.00         3\n",
            "is_priority_cat       0.00      0.00      0.00         1\n",
            "  is_status_cat       0.90      1.00      0.95        28\n",
            "\n",
            "       accuracy                           0.94      3191\n",
            "      macro avg       0.50      0.45      0.47      3191\n",
            "   weighted avg       0.93      0.94      0.94      3191\n",
            "\n"
          ]
        }
      ],
      "source": [
        "# 6) Train XGBoost with SMOTE on the processed feature matrix (as in training)\n",
        "from imblearn.over_sampling import SMOTE\n",
        "from imblearn.pipeline import Pipeline\n",
        "\n",
        "xgb_pipeline = Pipeline([\n",
        "    ('smote', SMOTE(random_state=RANDOM_STATE, k_neighbors=2)),\n",
        "    ('xgb', xgb.XGBClassifier(**xgb_config))\n",
        "])\n",
        "\n",
        "xgb_pipeline.fit(X_train, y_cat_train_encoded)\n",
        "\n",
        "y_pred_encoded = xgb_pipeline.predict(X_test)\n",
        "y_proba = xgb_pipeline.predict_proba(X_test)\n",
        "\n",
        "# For sanity: decode for a quick classification report\n",
        "y_pred = label_encoder.inverse_transform(y_pred_encoded)\n",
        "print(\"XGBoost with SMOTE — quick eval on holdout\")\n",
        "print(classification_report(y_cat_test, y_pred, zero_division=0))\n"
      ]
    },
    {
      "cell_type": "code",
      "execution_count": 16,
      "metadata": {},
      "outputs": [
        {
          "name": "stdout",
          "output_type": "stream",
          "text": [
            "Saved artifacts to: model_artifacts\n"
          ]
        }
      ],
      "source": [
        "# 7) Persist model and artifacts for UI inference\n",
        "# We save the trained pipeline's XGB classifier, the TF-IDF vectorizer, the label encoder, and the repo encoder.\n",
        "\n",
        "# Extract the trained XGB model from pipeline for saving\n",
        "trained_model = xgb_pipeline.named_steps['xgb']\n",
        "\n",
        "save_model_artifacts(\n",
        "    model=trained_model,\n",
        "    tfidf_vectorizer=tfidf,\n",
        "    label_encoder=label_encoder,\n",
        "    repo_encoder=repo_encoder,\n",
        "    output_dir=OUTPUT_DIR\n",
        ")\n",
        "\n",
        "print(f\"Saved artifacts to: {OUTPUT_DIR}\")\n"
      ]
    },
    {
      "cell_type": "code",
      "execution_count": null,
      "metadata": {},
      "outputs": [],
      "source": [
        "# 8) Reload modules to pick up updated feature schema\n",
        "import importlib, feature_engineering, smart_triage\n",
        "importlib.reload(feature_engineering)\n",
        "importlib.reload(smart_triage)\n",
        "from smart_triage import SmartIssueTriage\n"
      ]
    },
    {
      "cell_type": "code",
      "execution_count": null,
      "metadata": {},
      "outputs": [],
      "source": [
        "# 9) Quick verification snippet for UI-like prediction with reloaded modules\n",
        "triage = SmartIssueTriage(model_dir=OUTPUT_DIR)\n",
        "\n",
        "sample_title = \"Error in login flow: users cannot reset password\"\n",
        "sample_body = \"Users report password reset links error out with 500. Happens since v2.3.\"\n",
        "sample_repo = repo_encoder.classes_[0]\n",
        "\n",
        "features = triage.feature_extractor.extract_all_features(\n",
        "    text=f\"{sample_title}\\n{sample_body}\",\n",
        "    repo=sample_repo,\n",
        "    repo_encoder=repo_encoder\n",
        ")\n",
        "\n",
        "# Debug: print feature names vs model booster names if mismatch persists\n",
        "model_feature_names = triage.model.get_booster().feature_names\n",
        "first_10 = features.columns.tolist()[:10]\n",
        "print(\"Model features (count):\", len(model_feature_names))\n",
        "print(\"Input features (count):\", features.shape[1])\n",
        "print(\"First 10 input cols:\", first_10)\n",
        "\n",
        "result = triage.predict(\n",
        "    title=sample_title,\n",
        "    body=sample_body,\n",
        "    repo=sample_repo,\n",
        "    threshold=0.35\n",
        ")\n",
        "\n",
        "print(json.dumps(result, indent=2)[:2000])\n"
      ]
    },
    {
      "cell_type": "code",
      "execution_count": 19,
      "metadata": {},
      "outputs": [
        {
          "ename": "ValueError",
          "evalue": "feature_names mismatch: ['created_hour', 'created_day_of_week', 'created_month', 'n_days_to_resolution', 'title_length', 'body_length', 'title_word_count', 'body_word_count', 'code_block_count', 'url_count', 'title_question_word_count', 'title_has_question_mark', 'body_question_word_count', 'body_has_question_mark', 'total_question_word_count', 'total_has_question_mark', 'includes_questions', 'title_n_urgent_words', 'title_has_exclamation', 'body_n_urgent_words', 'body_has_exclamation', 'total_n_urgent_words', 'total_has_exclamation', 'urgency_score', 'repo_encoded', 'tfidf_0', 'tfidf_1', 'tfidf_2', 'tfidf_3', 'tfidf_4', 'tfidf_5', 'tfidf_6', 'tfidf_7', 'tfidf_8', 'tfidf_9', 'tfidf_10', 'tfidf_11', 'tfidf_12', 'tfidf_13', 'tfidf_14', 'tfidf_15', 'tfidf_16', 'tfidf_17', 'tfidf_18', 'tfidf_19', 'tfidf_20', 'tfidf_21', 'tfidf_22', 'tfidf_23', 'tfidf_24', 'tfidf_25', 'tfidf_26', 'tfidf_27', 'tfidf_28', 'tfidf_29', 'tfidf_30', 'tfidf_31', 'tfidf_32', 'tfidf_33', 'tfidf_34', 'tfidf_35', 'tfidf_36', 'tfidf_37', 'tfidf_38', 'tfidf_39', 'tfidf_40', 'tfidf_41', 'tfidf_42', 'tfidf_43', 'tfidf_44', 'tfidf_45', 'tfidf_46', 'tfidf_47', 'tfidf_48', 'tfidf_49', 'tfidf_50', 'tfidf_51', 'tfidf_52', 'tfidf_53', 'tfidf_54', 'tfidf_55', 'tfidf_56', 'tfidf_57', 'tfidf_58', 'tfidf_59', 'tfidf_60', 'tfidf_61', 'tfidf_62', 'tfidf_63', 'tfidf_64', 'tfidf_65', 'tfidf_66', 'tfidf_67', 'tfidf_68', 'tfidf_69', 'tfidf_70', 'tfidf_71', 'tfidf_72', 'tfidf_73', 'tfidf_74', 'tfidf_75', 'tfidf_76', 'tfidf_77', 'tfidf_78', 'tfidf_79', 'tfidf_80', 'tfidf_81', 'tfidf_82', 'tfidf_83', 'tfidf_84', 'tfidf_85', 'tfidf_86', 'tfidf_87', 'tfidf_88', 'tfidf_89', 'tfidf_90', 'tfidf_91', 'tfidf_92', 'tfidf_93', 'tfidf_94', 'tfidf_95', 'tfidf_96', 'tfidf_97', 'tfidf_98', 'tfidf_99', 'tfidf_100', 'tfidf_101', 'tfidf_102', 'tfidf_103', 'tfidf_104', 'tfidf_105', 'tfidf_106', 'tfidf_107', 'tfidf_108', 'tfidf_109', 'tfidf_110', 'tfidf_111', 'tfidf_112', 'tfidf_113', 'tfidf_114', 'tfidf_115', 'tfidf_116', 'tfidf_117', 'tfidf_118', 'tfidf_119', 'tfidf_120', 'tfidf_121', 'tfidf_122', 'tfidf_123', 'tfidf_124', 'tfidf_125', 'tfidf_126', 'tfidf_127', 'tfidf_128', 'tfidf_129', 'tfidf_130', 'tfidf_131', 'tfidf_132', 'tfidf_133', 'tfidf_134', 'tfidf_135', 'tfidf_136', 'tfidf_137', 'tfidf_138', 'tfidf_139', 'tfidf_140', 'tfidf_141', 'tfidf_142', 'tfidf_143', 'tfidf_144', 'tfidf_145', 'tfidf_146', 'tfidf_147', 'tfidf_148', 'tfidf_149', 'tfidf_150', 'tfidf_151', 'tfidf_152', 'tfidf_153', 'tfidf_154', 'tfidf_155', 'tfidf_156', 'tfidf_157', 'tfidf_158', 'tfidf_159', 'tfidf_160', 'tfidf_161', 'tfidf_162', 'tfidf_163', 'tfidf_164', 'tfidf_165', 'tfidf_166', 'tfidf_167', 'tfidf_168', 'tfidf_169', 'tfidf_170', 'tfidf_171', 'tfidf_172', 'tfidf_173', 'tfidf_174', 'tfidf_175', 'tfidf_176', 'tfidf_177', 'tfidf_178', 'tfidf_179', 'tfidf_180', 'tfidf_181', 'tfidf_182', 'tfidf_183', 'tfidf_184', 'tfidf_185', 'tfidf_186', 'tfidf_187', 'tfidf_188', 'tfidf_189', 'tfidf_190', 'tfidf_191', 'tfidf_192', 'tfidf_193', 'tfidf_194', 'tfidf_195', 'tfidf_196', 'tfidf_197', 'tfidf_198', 'tfidf_199', 'tfidf_200', 'tfidf_201', 'tfidf_202', 'tfidf_203', 'tfidf_204', 'tfidf_205', 'tfidf_206', 'tfidf_207', 'tfidf_208', 'tfidf_209', 'tfidf_210', 'tfidf_211', 'tfidf_212', 'tfidf_213', 'tfidf_214', 'tfidf_215', 'tfidf_216', 'tfidf_217', 'tfidf_218', 'tfidf_219', 'tfidf_220', 'tfidf_221', 'tfidf_222', 'tfidf_223', 'tfidf_224', 'tfidf_225', 'tfidf_226', 'tfidf_227', 'tfidf_228', 'tfidf_229', 'tfidf_230', 'tfidf_231', 'tfidf_232', 'tfidf_233', 'tfidf_234', 'tfidf_235', 'tfidf_236', 'tfidf_237', 'tfidf_238', 'tfidf_239', 'tfidf_240', 'tfidf_241', 'tfidf_242', 'tfidf_243', 'tfidf_244', 'tfidf_245', 'tfidf_246', 'tfidf_247', 'tfidf_248', 'tfidf_249', 'bert_0', 'bert_1', 'bert_2', 'bert_3', 'bert_4', 'bert_5', 'bert_6', 'bert_7', 'bert_8', 'bert_9', 'bert_10', 'bert_11', 'bert_12', 'bert_13', 'bert_14', 'bert_15', 'bert_16', 'bert_17', 'bert_18', 'bert_19', 'bert_20', 'bert_21', 'bert_22', 'bert_23', 'bert_24', 'bert_25', 'bert_26', 'bert_27', 'bert_28', 'bert_29', 'bert_30', 'bert_31', 'bert_32', 'bert_33', 'bert_34', 'bert_35', 'bert_36', 'bert_37', 'bert_38', 'bert_39', 'bert_40', 'bert_41', 'bert_42', 'bert_43', 'bert_44', 'bert_45', 'bert_46', 'bert_47', 'bert_48', 'bert_49', 'bert_50', 'bert_51', 'bert_52', 'bert_53', 'bert_54', 'bert_55', 'bert_56', 'bert_57', 'bert_58', 'bert_59', 'bert_60', 'bert_61', 'bert_62', 'bert_63', 'bert_64', 'bert_65', 'bert_66', 'bert_67', 'bert_68', 'bert_69', 'bert_70', 'bert_71', 'bert_72', 'bert_73', 'bert_74', 'bert_75', 'bert_76', 'bert_77', 'bert_78', 'bert_79', 'bert_80', 'bert_81', 'bert_82', 'bert_83', 'bert_84', 'bert_85', 'bert_86', 'bert_87', 'bert_88', 'bert_89', 'bert_90', 'bert_91', 'bert_92', 'bert_93', 'bert_94', 'bert_95', 'bert_96', 'bert_97', 'bert_98', 'bert_99', 'bert_100', 'bert_101', 'bert_102', 'bert_103', 'bert_104', 'bert_105', 'bert_106', 'bert_107', 'bert_108', 'bert_109', 'bert_110', 'bert_111', 'bert_112', 'bert_113', 'bert_114', 'bert_115', 'bert_116', 'bert_117', 'bert_118', 'bert_119', 'bert_120', 'bert_121', 'bert_122', 'bert_123', 'bert_124', 'bert_125', 'bert_126', 'bert_127', 'bert_128', 'bert_129', 'bert_130', 'bert_131', 'bert_132', 'bert_133', 'bert_134', 'bert_135', 'bert_136', 'bert_137', 'bert_138', 'bert_139', 'bert_140', 'bert_141', 'bert_142', 'bert_143', 'bert_144', 'bert_145', 'bert_146', 'bert_147', 'bert_148', 'bert_149', 'bert_150', 'bert_151', 'bert_152', 'bert_153', 'bert_154', 'bert_155', 'bert_156', 'bert_157', 'bert_158', 'bert_159', 'bert_160', 'bert_161', 'bert_162', 'bert_163', 'bert_164', 'bert_165', 'bert_166', 'bert_167', 'bert_168', 'bert_169', 'bert_170', 'bert_171', 'bert_172', 'bert_173', 'bert_174', 'bert_175', 'bert_176', 'bert_177', 'bert_178', 'bert_179', 'bert_180', 'bert_181', 'bert_182', 'bert_183', 'bert_184', 'bert_185', 'bert_186', 'bert_187', 'bert_188', 'bert_189', 'bert_190', 'bert_191', 'bert_192', 'bert_193', 'bert_194', 'bert_195', 'bert_196', 'bert_197', 'bert_198', 'bert_199', 'bert_200', 'bert_201', 'bert_202', 'bert_203', 'bert_204', 'bert_205', 'bert_206', 'bert_207', 'bert_208', 'bert_209', 'bert_210', 'bert_211', 'bert_212', 'bert_213', 'bert_214', 'bert_215', 'bert_216', 'bert_217', 'bert_218', 'bert_219', 'bert_220', 'bert_221', 'bert_222', 'bert_223', 'bert_224', 'bert_225', 'bert_226', 'bert_227', 'bert_228', 'bert_229', 'bert_230', 'bert_231', 'bert_232', 'bert_233', 'bert_234', 'bert_235', 'bert_236', 'bert_237', 'bert_238', 'bert_239', 'bert_240', 'bert_241', 'bert_242', 'bert_243', 'bert_244', 'bert_245', 'bert_246', 'bert_247', 'bert_248', 'bert_249', 'bert_250', 'bert_251', 'bert_252', 'bert_253', 'bert_254', 'bert_255', 'bert_256', 'bert_257', 'bert_258', 'bert_259', 'bert_260', 'bert_261', 'bert_262', 'bert_263', 'bert_264', 'bert_265', 'bert_266', 'bert_267', 'bert_268', 'bert_269', 'bert_270', 'bert_271', 'bert_272', 'bert_273', 'bert_274', 'bert_275', 'bert_276', 'bert_277', 'bert_278', 'bert_279', 'bert_280', 'bert_281', 'bert_282', 'bert_283', 'bert_284', 'bert_285', 'bert_286', 'bert_287', 'bert_288', 'bert_289', 'bert_290', 'bert_291', 'bert_292', 'bert_293', 'bert_294', 'bert_295', 'bert_296', 'bert_297', 'bert_298', 'bert_299', 'bert_300', 'bert_301', 'bert_302', 'bert_303', 'bert_304', 'bert_305', 'bert_306', 'bert_307', 'bert_308', 'bert_309', 'bert_310', 'bert_311', 'bert_312', 'bert_313', 'bert_314', 'bert_315', 'bert_316', 'bert_317', 'bert_318', 'bert_319', 'bert_320', 'bert_321', 'bert_322', 'bert_323', 'bert_324', 'bert_325', 'bert_326', 'bert_327', 'bert_328', 'bert_329', 'bert_330', 'bert_331', 'bert_332', 'bert_333', 'bert_334', 'bert_335', 'bert_336', 'bert_337', 'bert_338', 'bert_339', 'bert_340', 'bert_341', 'bert_342', 'bert_343', 'bert_344', 'bert_345', 'bert_346', 'bert_347', 'bert_348', 'bert_349', 'bert_350', 'bert_351', 'bert_352', 'bert_353', 'bert_354', 'bert_355', 'bert_356', 'bert_357', 'bert_358', 'bert_359', 'bert_360', 'bert_361', 'bert_362', 'bert_363', 'bert_364', 'bert_365', 'bert_366', 'bert_367', 'bert_368', 'bert_369', 'bert_370', 'bert_371', 'bert_372', 'bert_373', 'bert_374', 'bert_375', 'bert_376', 'bert_377', 'bert_378', 'bert_379', 'bert_380', 'bert_381', 'bert_382', 'bert_383'] ['n_labels', 'has_bug_label', 'has_good_first_issue_label', 'has_help_wanted_label', 'has_enhancement_label', 'has_documentation_label', 'has_stale_label', 'has_waiting_for_customer_response_label', 'has_regression_label', 'has_question_label', 'has_needs_triage_label', 'has_issue__confirmed_label', 'has_type__bug_label', 'has_fixed_label', 'has_topic_editor_label', 'has_docs_label', 'has_confirmed_label', 'has_in_triage_label', 'has_customer_reported_label', 'has_client_label', 'has_inactive_label', 'has_type_bug_label', 'has_p2_label', 'has_archived_label', 'has_backlog_label', 'created_hour', 'created_day_of_week', 'created_month', 'n_days_to_resolution', 'title_length', 'body_length', 'title_word_count', 'body_word_count', 'has_code_blocks', 'code_block_count', 'url_count', 'has_urls', 'title_question_word_count', 'title_has_question_mark', 'body_question_word_count', 'body_has_question_mark', 'total_question_word_count', 'total_has_question_mark', 'includes_questions', 'title_n_urgent_words', 'title_has_exclamation', 'body_n_urgent_words', 'body_has_exclamation', 'total_n_urgent_words', 'total_has_exclamation', 'urgency_score', 'repo_encoded', 'tfidf_0', 'tfidf_1', 'tfidf_2', 'tfidf_3', 'tfidf_4', 'tfidf_5', 'tfidf_6', 'tfidf_7', 'tfidf_8', 'tfidf_9', 'tfidf_10', 'tfidf_11', 'tfidf_12', 'tfidf_13', 'tfidf_14', 'tfidf_15', 'tfidf_16', 'tfidf_17', 'tfidf_18', 'tfidf_19', 'tfidf_20', 'tfidf_21', 'tfidf_22', 'tfidf_23', 'tfidf_24', 'tfidf_25', 'tfidf_26', 'tfidf_27', 'tfidf_28', 'tfidf_29', 'tfidf_30', 'tfidf_31', 'tfidf_32', 'tfidf_33', 'tfidf_34', 'tfidf_35', 'tfidf_36', 'tfidf_37', 'tfidf_38', 'tfidf_39', 'tfidf_40', 'tfidf_41', 'tfidf_42', 'tfidf_43', 'tfidf_44', 'tfidf_45', 'tfidf_46', 'tfidf_47', 'tfidf_48', 'tfidf_49', 'tfidf_50', 'tfidf_51', 'tfidf_52', 'tfidf_53', 'tfidf_54', 'tfidf_55', 'tfidf_56', 'tfidf_57', 'tfidf_58', 'tfidf_59', 'tfidf_60', 'tfidf_61', 'tfidf_62', 'tfidf_63', 'tfidf_64', 'tfidf_65', 'tfidf_66', 'tfidf_67', 'tfidf_68', 'tfidf_69', 'tfidf_70', 'tfidf_71', 'tfidf_72', 'tfidf_73', 'tfidf_74', 'tfidf_75', 'tfidf_76', 'tfidf_77', 'tfidf_78', 'tfidf_79', 'tfidf_80', 'tfidf_81', 'tfidf_82', 'tfidf_83', 'tfidf_84', 'tfidf_85', 'tfidf_86', 'tfidf_87', 'tfidf_88', 'tfidf_89', 'tfidf_90', 'tfidf_91', 'tfidf_92', 'tfidf_93', 'tfidf_94', 'tfidf_95', 'tfidf_96', 'tfidf_97', 'tfidf_98', 'tfidf_99', 'tfidf_100', 'tfidf_101', 'tfidf_102', 'tfidf_103', 'tfidf_104', 'tfidf_105', 'tfidf_106', 'tfidf_107', 'tfidf_108', 'tfidf_109', 'tfidf_110', 'tfidf_111', 'tfidf_112', 'tfidf_113', 'tfidf_114', 'tfidf_115', 'tfidf_116', 'tfidf_117', 'tfidf_118', 'tfidf_119', 'tfidf_120', 'tfidf_121', 'tfidf_122', 'tfidf_123', 'tfidf_124', 'tfidf_125', 'tfidf_126', 'tfidf_127', 'tfidf_128', 'tfidf_129', 'tfidf_130', 'tfidf_131', 'tfidf_132', 'tfidf_133', 'tfidf_134', 'tfidf_135', 'tfidf_136', 'tfidf_137', 'tfidf_138', 'tfidf_139', 'tfidf_140', 'tfidf_141', 'tfidf_142', 'tfidf_143', 'tfidf_144', 'tfidf_145', 'tfidf_146', 'tfidf_147', 'tfidf_148', 'tfidf_149', 'tfidf_150', 'tfidf_151', 'tfidf_152', 'tfidf_153', 'tfidf_154', 'tfidf_155', 'tfidf_156', 'tfidf_157', 'tfidf_158', 'tfidf_159', 'tfidf_160', 'tfidf_161', 'tfidf_162', 'tfidf_163', 'tfidf_164', 'tfidf_165', 'tfidf_166', 'tfidf_167', 'tfidf_168', 'tfidf_169', 'tfidf_170', 'tfidf_171', 'tfidf_172', 'tfidf_173', 'tfidf_174', 'tfidf_175', 'tfidf_176', 'tfidf_177', 'tfidf_178', 'tfidf_179', 'tfidf_180', 'tfidf_181', 'tfidf_182', 'tfidf_183', 'tfidf_184', 'tfidf_185', 'tfidf_186', 'tfidf_187', 'tfidf_188', 'tfidf_189', 'tfidf_190', 'tfidf_191', 'tfidf_192', 'tfidf_193', 'tfidf_194', 'tfidf_195', 'tfidf_196', 'tfidf_197', 'tfidf_198', 'tfidf_199', 'tfidf_200', 'tfidf_201', 'tfidf_202', 'tfidf_203', 'tfidf_204', 'tfidf_205', 'tfidf_206', 'tfidf_207', 'tfidf_208', 'tfidf_209', 'tfidf_210', 'tfidf_211', 'tfidf_212', 'tfidf_213', 'tfidf_214', 'tfidf_215', 'tfidf_216', 'tfidf_217', 'tfidf_218', 'tfidf_219', 'tfidf_220', 'tfidf_221', 'tfidf_222', 'tfidf_223', 'tfidf_224', 'tfidf_225', 'tfidf_226', 'tfidf_227', 'tfidf_228', 'tfidf_229', 'tfidf_230', 'tfidf_231', 'tfidf_232', 'tfidf_233', 'tfidf_234', 'tfidf_235', 'tfidf_236', 'tfidf_237', 'tfidf_238', 'tfidf_239', 'tfidf_240', 'tfidf_241', 'tfidf_242', 'tfidf_243', 'tfidf_244', 'tfidf_245', 'tfidf_246', 'tfidf_247', 'tfidf_248', 'tfidf_249', 'bert_0', 'bert_1', 'bert_2', 'bert_3', 'bert_4', 'bert_5', 'bert_6', 'bert_7', 'bert_8', 'bert_9', 'bert_10', 'bert_11', 'bert_12', 'bert_13', 'bert_14', 'bert_15', 'bert_16', 'bert_17', 'bert_18', 'bert_19', 'bert_20', 'bert_21', 'bert_22', 'bert_23', 'bert_24', 'bert_25', 'bert_26', 'bert_27', 'bert_28', 'bert_29', 'bert_30', 'bert_31', 'bert_32', 'bert_33', 'bert_34', 'bert_35', 'bert_36', 'bert_37', 'bert_38', 'bert_39', 'bert_40', 'bert_41', 'bert_42', 'bert_43', 'bert_44', 'bert_45', 'bert_46', 'bert_47', 'bert_48', 'bert_49', 'bert_50', 'bert_51', 'bert_52', 'bert_53', 'bert_54', 'bert_55', 'bert_56', 'bert_57', 'bert_58', 'bert_59', 'bert_60', 'bert_61', 'bert_62', 'bert_63', 'bert_64', 'bert_65', 'bert_66', 'bert_67', 'bert_68', 'bert_69', 'bert_70', 'bert_71', 'bert_72', 'bert_73', 'bert_74', 'bert_75', 'bert_76', 'bert_77', 'bert_78', 'bert_79', 'bert_80', 'bert_81', 'bert_82', 'bert_83', 'bert_84', 'bert_85', 'bert_86', 'bert_87', 'bert_88', 'bert_89', 'bert_90', 'bert_91', 'bert_92', 'bert_93', 'bert_94', 'bert_95', 'bert_96', 'bert_97', 'bert_98', 'bert_99', 'bert_100', 'bert_101', 'bert_102', 'bert_103', 'bert_104', 'bert_105', 'bert_106', 'bert_107', 'bert_108', 'bert_109', 'bert_110', 'bert_111', 'bert_112', 'bert_113', 'bert_114', 'bert_115', 'bert_116', 'bert_117', 'bert_118', 'bert_119', 'bert_120', 'bert_121', 'bert_122', 'bert_123', 'bert_124', 'bert_125', 'bert_126', 'bert_127', 'bert_128', 'bert_129', 'bert_130', 'bert_131', 'bert_132', 'bert_133', 'bert_134', 'bert_135', 'bert_136', 'bert_137', 'bert_138', 'bert_139', 'bert_140', 'bert_141', 'bert_142', 'bert_143', 'bert_144', 'bert_145', 'bert_146', 'bert_147', 'bert_148', 'bert_149', 'bert_150', 'bert_151', 'bert_152', 'bert_153', 'bert_154', 'bert_155', 'bert_156', 'bert_157', 'bert_158', 'bert_159', 'bert_160', 'bert_161', 'bert_162', 'bert_163', 'bert_164', 'bert_165', 'bert_166', 'bert_167', 'bert_168', 'bert_169', 'bert_170', 'bert_171', 'bert_172', 'bert_173', 'bert_174', 'bert_175', 'bert_176', 'bert_177', 'bert_178', 'bert_179', 'bert_180', 'bert_181', 'bert_182', 'bert_183', 'bert_184', 'bert_185', 'bert_186', 'bert_187', 'bert_188', 'bert_189', 'bert_190', 'bert_191', 'bert_192', 'bert_193', 'bert_194', 'bert_195', 'bert_196', 'bert_197', 'bert_198', 'bert_199', 'bert_200', 'bert_201', 'bert_202', 'bert_203', 'bert_204', 'bert_205', 'bert_206', 'bert_207', 'bert_208', 'bert_209', 'bert_210', 'bert_211', 'bert_212', 'bert_213', 'bert_214', 'bert_215', 'bert_216', 'bert_217', 'bert_218', 'bert_219', 'bert_220', 'bert_221', 'bert_222', 'bert_223', 'bert_224', 'bert_225', 'bert_226', 'bert_227', 'bert_228', 'bert_229', 'bert_230', 'bert_231', 'bert_232', 'bert_233', 'bert_234', 'bert_235', 'bert_236', 'bert_237', 'bert_238', 'bert_239', 'bert_240', 'bert_241', 'bert_242', 'bert_243', 'bert_244', 'bert_245', 'bert_246', 'bert_247', 'bert_248', 'bert_249', 'bert_250', 'bert_251', 'bert_252', 'bert_253', 'bert_254', 'bert_255', 'bert_256', 'bert_257', 'bert_258', 'bert_259', 'bert_260', 'bert_261', 'bert_262', 'bert_263', 'bert_264', 'bert_265', 'bert_266', 'bert_267', 'bert_268', 'bert_269', 'bert_270', 'bert_271', 'bert_272', 'bert_273', 'bert_274', 'bert_275', 'bert_276', 'bert_277', 'bert_278', 'bert_279', 'bert_280', 'bert_281', 'bert_282', 'bert_283', 'bert_284', 'bert_285', 'bert_286', 'bert_287', 'bert_288', 'bert_289', 'bert_290', 'bert_291', 'bert_292', 'bert_293', 'bert_294', 'bert_295', 'bert_296', 'bert_297', 'bert_298', 'bert_299', 'bert_300', 'bert_301', 'bert_302', 'bert_303', 'bert_304', 'bert_305', 'bert_306', 'bert_307', 'bert_308', 'bert_309', 'bert_310', 'bert_311', 'bert_312', 'bert_313', 'bert_314', 'bert_315', 'bert_316', 'bert_317', 'bert_318', 'bert_319', 'bert_320', 'bert_321', 'bert_322', 'bert_323', 'bert_324', 'bert_325', 'bert_326', 'bert_327', 'bert_328', 'bert_329', 'bert_330', 'bert_331', 'bert_332', 'bert_333', 'bert_334', 'bert_335', 'bert_336', 'bert_337', 'bert_338', 'bert_339', 'bert_340', 'bert_341', 'bert_342', 'bert_343', 'bert_344', 'bert_345', 'bert_346', 'bert_347', 'bert_348', 'bert_349', 'bert_350', 'bert_351', 'bert_352', 'bert_353', 'bert_354', 'bert_355', 'bert_356', 'bert_357', 'bert_358', 'bert_359', 'bert_360', 'bert_361', 'bert_362', 'bert_363', 'bert_364', 'bert_365', 'bert_366', 'bert_367', 'bert_368', 'bert_369', 'bert_370', 'bert_371', 'bert_372', 'bert_373', 'bert_374', 'bert_375', 'bert_376', 'bert_377', 'bert_378', 'bert_379', 'bert_380', 'bert_381', 'bert_382', 'bert_383']\ntraining data did not have the following fields: has_client_label, has_bug_label, has_regression_label, has_p2_label, has_enhancement_label, has_backlog_label, has_help_wanted_label, has_issue__confirmed_label, has_needs_triage_label, has_type__bug_label, has_stale_label, has_waiting_for_customer_response_label, has_good_first_issue_label, has_urls, has_inactive_label, has_question_label, has_code_blocks, has_confirmed_label, has_archived_label, has_type_bug_label, has_customer_reported_label, n_labels, has_topic_editor_label, has_docs_label, has_documentation_label, has_in_triage_label, has_fixed_label",
          "output_type": "error",
          "traceback": [
            "\u001b[0;31m---------------------------------------------------------------------------\u001b[0m",
            "\u001b[0;31mValueError\u001b[0m                                Traceback (most recent call last)",
            "Cell \u001b[0;32mIn[19], line 11\u001b[0m\n\u001b[1;32m      8\u001b[0m \u001b[38;5;66;03m# pick a repo from the fitted encoder classes for a valid mapping\u001b[39;00m\n\u001b[1;32m      9\u001b[0m sample_repo \u001b[38;5;241m=\u001b[39m repo_encoder\u001b[38;5;241m.\u001b[39mclasses_[\u001b[38;5;241m0\u001b[39m]\n\u001b[0;32m---> 11\u001b[0m result \u001b[38;5;241m=\u001b[39m \u001b[43mtriage\u001b[49m\u001b[38;5;241;43m.\u001b[39;49m\u001b[43mpredict\u001b[49m\u001b[43m(\u001b[49m\n\u001b[1;32m     12\u001b[0m \u001b[43m    \u001b[49m\u001b[43mtitle\u001b[49m\u001b[38;5;241;43m=\u001b[39;49m\u001b[43msample_title\u001b[49m\u001b[43m,\u001b[49m\n\u001b[1;32m     13\u001b[0m \u001b[43m    \u001b[49m\u001b[43mbody\u001b[49m\u001b[38;5;241;43m=\u001b[39;49m\u001b[43msample_body\u001b[49m\u001b[43m,\u001b[49m\n\u001b[1;32m     14\u001b[0m \u001b[43m    \u001b[49m\u001b[43mrepo\u001b[49m\u001b[38;5;241;43m=\u001b[39;49m\u001b[43msample_repo\u001b[49m\u001b[43m,\u001b[49m\n\u001b[1;32m     15\u001b[0m \u001b[43m    \u001b[49m\u001b[43mthreshold\u001b[49m\u001b[38;5;241;43m=\u001b[39;49m\u001b[38;5;241;43m0.35\u001b[39;49m\n\u001b[1;32m     16\u001b[0m \u001b[43m)\u001b[49m\n\u001b[1;32m     18\u001b[0m \u001b[38;5;28mprint\u001b[39m(json\u001b[38;5;241m.\u001b[39mdumps(result, indent\u001b[38;5;241m=\u001b[39m\u001b[38;5;241m2\u001b[39m)[:\u001b[38;5;241m2000\u001b[39m])\n",
            "File \u001b[0;32m~/dev/projects/timely/smart_triage.py:162\u001b[0m, in \u001b[0;36mSmartIssueTriage.predict\u001b[0;34m(self, title, body, repo, threshold)\u001b[0m\n\u001b[1;32m    155\u001b[0m features \u001b[38;5;241m=\u001b[39m \u001b[38;5;28mself\u001b[39m\u001b[38;5;241m.\u001b[39mfeature_extractor\u001b[38;5;241m.\u001b[39mextract_all_features(\n\u001b[1;32m    156\u001b[0m     text\u001b[38;5;241m=\u001b[39mtext,\n\u001b[1;32m    157\u001b[0m     repo\u001b[38;5;241m=\u001b[39mrepo,\n\u001b[1;32m    158\u001b[0m     repo_encoder\u001b[38;5;241m=\u001b[39m\u001b[38;5;28mself\u001b[39m\u001b[38;5;241m.\u001b[39mrepo_encoder\n\u001b[1;32m    159\u001b[0m )\n\u001b[1;32m    161\u001b[0m \u001b[38;5;66;03m# Get recommendations\u001b[39;00m\n\u001b[0;32m--> 162\u001b[0m recommendations \u001b[38;5;241m=\u001b[39m \u001b[38;5;28;43mself\u001b[39;49m\u001b[38;5;241;43m.\u001b[39;49m\u001b[43mget_recommendations\u001b[49m\u001b[43m(\u001b[49m\n\u001b[1;32m    163\u001b[0m \u001b[43m    \u001b[49m\u001b[43mfeatures\u001b[49m\u001b[38;5;241;43m=\u001b[39;49m\u001b[43mfeatures\u001b[49m\u001b[43m,\u001b[49m\n\u001b[1;32m    164\u001b[0m \u001b[43m    \u001b[49m\u001b[43mthreshold\u001b[49m\u001b[38;5;241;43m=\u001b[39;49m\u001b[43mthreshold\u001b[49m\n\u001b[1;32m    165\u001b[0m \u001b[43m\u001b[49m\u001b[43m)\u001b[49m\n\u001b[1;32m    167\u001b[0m \u001b[38;5;66;03m# Add repository context\u001b[39;00m\n\u001b[1;32m    168\u001b[0m recommendations[\u001b[38;5;124m'\u001b[39m\u001b[38;5;124mrepo_context\u001b[39m\u001b[38;5;124m'\u001b[39m] \u001b[38;5;241m=\u001b[39m {\n\u001b[1;32m    169\u001b[0m     \u001b[38;5;124m'\u001b[39m\u001b[38;5;124mrepository\u001b[39m\u001b[38;5;124m'\u001b[39m: repo,\n\u001b[1;32m    170\u001b[0m     \u001b[38;5;124m'\u001b[39m\u001b[38;5;124mtypical_response_time\u001b[39m\u001b[38;5;124m'\u001b[39m: \u001b[38;5;124m'\u001b[39m\u001b[38;5;124m2-3 days\u001b[39m\u001b[38;5;124m'\u001b[39m,  \u001b[38;5;66;03m# This could be calculated from historical data\u001b[39;00m\n\u001b[1;32m    171\u001b[0m     \u001b[38;5;124m'\u001b[39m\u001b[38;5;124msimilar_issues_count\u001b[39m\u001b[38;5;124m'\u001b[39m: \u001b[38;5;241m5\u001b[39m  \u001b[38;5;66;03m# This could be calculated using embedding similarity\u001b[39;00m\n\u001b[1;32m    172\u001b[0m }\n",
            "File \u001b[0;32m~/dev/projects/timely/smart_triage.py:52\u001b[0m, in \u001b[0;36mSmartIssueTriage.get_recommendations\u001b[0;34m(self, features, threshold)\u001b[0m\n\u001b[1;32m     41\u001b[0m \u001b[38;5;250m\u001b[39m\u001b[38;5;124;03m\"\"\"\u001b[39;00m\n\u001b[1;32m     42\u001b[0m \u001b[38;5;124;03mGenerate recommendations based on model predictions\u001b[39;00m\n\u001b[1;32m     43\u001b[0m \u001b[38;5;124;03m\u001b[39;00m\n\u001b[0;32m   (...)\u001b[0m\n\u001b[1;32m     49\u001b[0m \u001b[38;5;124;03m    dict: Recommendations and insights\u001b[39;00m\n\u001b[1;32m     50\u001b[0m \u001b[38;5;124;03m\"\"\"\u001b[39;00m\n\u001b[1;32m     51\u001b[0m \u001b[38;5;66;03m# Get model predictions and probabilities\u001b[39;00m\n\u001b[0;32m---> 52\u001b[0m proba \u001b[38;5;241m=\u001b[39m \u001b[38;5;28;43mself\u001b[39;49m\u001b[38;5;241;43m.\u001b[39;49m\u001b[43mmodel\u001b[49m\u001b[38;5;241;43m.\u001b[39;49m\u001b[43mpredict_proba\u001b[49m\u001b[43m(\u001b[49m\u001b[43mfeatures\u001b[49m\u001b[43m)\u001b[49m[\u001b[38;5;241m0\u001b[39m]\n\u001b[1;32m     54\u001b[0m \u001b[38;5;66;03m# Convert encoded predictions back to original labels\u001b[39;00m\n\u001b[1;32m     55\u001b[0m classes \u001b[38;5;241m=\u001b[39m \u001b[38;5;28mself\u001b[39m\u001b[38;5;241m.\u001b[39mlabel_encoder\u001b[38;5;241m.\u001b[39minverse_transform(\u001b[38;5;28mrange\u001b[39m(\u001b[38;5;28mlen\u001b[39m(proba)))\n",
            "File \u001b[0;32m/Library/Frameworks/Python.framework/Versions/3.12/lib/python3.12/site-packages/xgboost/sklearn.py:1797\u001b[0m, in \u001b[0;36mXGBClassifier.predict_proba\u001b[0;34m(self, X, validate_features, base_margin, iteration_range)\u001b[0m\n\u001b[1;32m   1795\u001b[0m     class_prob \u001b[38;5;241m=\u001b[39m softmax(raw_predt, axis\u001b[38;5;241m=\u001b[39m\u001b[38;5;241m1\u001b[39m)\n\u001b[1;32m   1796\u001b[0m     \u001b[38;5;28;01mreturn\u001b[39;00m class_prob\n\u001b[0;32m-> 1797\u001b[0m class_probs \u001b[38;5;241m=\u001b[39m \u001b[38;5;28;43msuper\u001b[39;49m\u001b[43m(\u001b[49m\u001b[43m)\u001b[49m\u001b[38;5;241;43m.\u001b[39;49m\u001b[43mpredict\u001b[49m\u001b[43m(\u001b[49m\n\u001b[1;32m   1798\u001b[0m \u001b[43m    \u001b[49m\u001b[43mX\u001b[49m\u001b[38;5;241;43m=\u001b[39;49m\u001b[43mX\u001b[49m\u001b[43m,\u001b[49m\n\u001b[1;32m   1799\u001b[0m \u001b[43m    \u001b[49m\u001b[43mvalidate_features\u001b[49m\u001b[38;5;241;43m=\u001b[39;49m\u001b[43mvalidate_features\u001b[49m\u001b[43m,\u001b[49m\n\u001b[1;32m   1800\u001b[0m \u001b[43m    \u001b[49m\u001b[43mbase_margin\u001b[49m\u001b[38;5;241;43m=\u001b[39;49m\u001b[43mbase_margin\u001b[49m\u001b[43m,\u001b[49m\n\u001b[1;32m   1801\u001b[0m \u001b[43m    \u001b[49m\u001b[43miteration_range\u001b[49m\u001b[38;5;241;43m=\u001b[39;49m\u001b[43miteration_range\u001b[49m\u001b[43m,\u001b[49m\n\u001b[1;32m   1802\u001b[0m \u001b[43m\u001b[49m\u001b[43m)\u001b[49m\n\u001b[1;32m   1803\u001b[0m \u001b[38;5;28;01mreturn\u001b[39;00m _cls_predict_proba(\u001b[38;5;28mself\u001b[39m\u001b[38;5;241m.\u001b[39mn_classes_, class_probs, np\u001b[38;5;241m.\u001b[39mvstack)\n",
            "File \u001b[0;32m/Library/Frameworks/Python.framework/Versions/3.12/lib/python3.12/site-packages/xgboost/core.py:729\u001b[0m, in \u001b[0;36mrequire_keyword_args.<locals>.throw_if.<locals>.inner_f\u001b[0;34m(*args, **kwargs)\u001b[0m\n\u001b[1;32m    727\u001b[0m \u001b[38;5;28;01mfor\u001b[39;00m k, arg \u001b[38;5;129;01min\u001b[39;00m \u001b[38;5;28mzip\u001b[39m(sig\u001b[38;5;241m.\u001b[39mparameters, args):\n\u001b[1;32m    728\u001b[0m     kwargs[k] \u001b[38;5;241m=\u001b[39m arg\n\u001b[0;32m--> 729\u001b[0m \u001b[38;5;28;01mreturn\u001b[39;00m \u001b[43mfunc\u001b[49m\u001b[43m(\u001b[49m\u001b[38;5;241;43m*\u001b[39;49m\u001b[38;5;241;43m*\u001b[39;49m\u001b[43mkwargs\u001b[49m\u001b[43m)\u001b[49m\n",
            "File \u001b[0;32m/Library/Frameworks/Python.framework/Versions/3.12/lib/python3.12/site-packages/xgboost/sklearn.py:1327\u001b[0m, in \u001b[0;36mXGBModel.predict\u001b[0;34m(self, X, output_margin, validate_features, base_margin, iteration_range)\u001b[0m\n\u001b[1;32m   1325\u001b[0m \u001b[38;5;28;01mif\u001b[39;00m \u001b[38;5;28mself\u001b[39m\u001b[38;5;241m.\u001b[39m_can_use_inplace_predict():\n\u001b[1;32m   1326\u001b[0m     \u001b[38;5;28;01mtry\u001b[39;00m:\n\u001b[0;32m-> 1327\u001b[0m         predts \u001b[38;5;241m=\u001b[39m \u001b[38;5;28;43mself\u001b[39;49m\u001b[38;5;241;43m.\u001b[39;49m\u001b[43mget_booster\u001b[49m\u001b[43m(\u001b[49m\u001b[43m)\u001b[49m\u001b[38;5;241;43m.\u001b[39;49m\u001b[43minplace_predict\u001b[49m\u001b[43m(\u001b[49m\n\u001b[1;32m   1328\u001b[0m \u001b[43m            \u001b[49m\u001b[43mdata\u001b[49m\u001b[38;5;241;43m=\u001b[39;49m\u001b[43mX\u001b[49m\u001b[43m,\u001b[49m\n\u001b[1;32m   1329\u001b[0m \u001b[43m            \u001b[49m\u001b[43miteration_range\u001b[49m\u001b[38;5;241;43m=\u001b[39;49m\u001b[43miteration_range\u001b[49m\u001b[43m,\u001b[49m\n\u001b[1;32m   1330\u001b[0m \u001b[43m            \u001b[49m\u001b[43mpredict_type\u001b[49m\u001b[38;5;241;43m=\u001b[39;49m\u001b[38;5;124;43m\"\u001b[39;49m\u001b[38;5;124;43mmargin\u001b[39;49m\u001b[38;5;124;43m\"\u001b[39;49m\u001b[43m \u001b[49m\u001b[38;5;28;43;01mif\u001b[39;49;00m\u001b[43m \u001b[49m\u001b[43moutput_margin\u001b[49m\u001b[43m \u001b[49m\u001b[38;5;28;43;01melse\u001b[39;49;00m\u001b[43m \u001b[49m\u001b[38;5;124;43m\"\u001b[39;49m\u001b[38;5;124;43mvalue\u001b[39;49m\u001b[38;5;124;43m\"\u001b[39;49m\u001b[43m,\u001b[49m\n\u001b[1;32m   1331\u001b[0m \u001b[43m            \u001b[49m\u001b[43mmissing\u001b[49m\u001b[38;5;241;43m=\u001b[39;49m\u001b[38;5;28;43mself\u001b[39;49m\u001b[38;5;241;43m.\u001b[39;49m\u001b[43mmissing\u001b[49m\u001b[43m,\u001b[49m\n\u001b[1;32m   1332\u001b[0m \u001b[43m            \u001b[49m\u001b[43mbase_margin\u001b[49m\u001b[38;5;241;43m=\u001b[39;49m\u001b[43mbase_margin\u001b[49m\u001b[43m,\u001b[49m\n\u001b[1;32m   1333\u001b[0m \u001b[43m            \u001b[49m\u001b[43mvalidate_features\u001b[49m\u001b[38;5;241;43m=\u001b[39;49m\u001b[43mvalidate_features\u001b[49m\u001b[43m,\u001b[49m\n\u001b[1;32m   1334\u001b[0m \u001b[43m        \u001b[49m\u001b[43m)\u001b[49m\n\u001b[1;32m   1335\u001b[0m         \u001b[38;5;28;01mif\u001b[39;00m _is_cupy_alike(predts):\n\u001b[1;32m   1336\u001b[0m             cp \u001b[38;5;241m=\u001b[39m import_cupy()\n",
            "File \u001b[0;32m/Library/Frameworks/Python.framework/Versions/3.12/lib/python3.12/site-packages/xgboost/core.py:729\u001b[0m, in \u001b[0;36mrequire_keyword_args.<locals>.throw_if.<locals>.inner_f\u001b[0;34m(*args, **kwargs)\u001b[0m\n\u001b[1;32m    727\u001b[0m \u001b[38;5;28;01mfor\u001b[39;00m k, arg \u001b[38;5;129;01min\u001b[39;00m \u001b[38;5;28mzip\u001b[39m(sig\u001b[38;5;241m.\u001b[39mparameters, args):\n\u001b[1;32m    728\u001b[0m     kwargs[k] \u001b[38;5;241m=\u001b[39m arg\n\u001b[0;32m--> 729\u001b[0m \u001b[38;5;28;01mreturn\u001b[39;00m \u001b[43mfunc\u001b[49m\u001b[43m(\u001b[49m\u001b[38;5;241;43m*\u001b[39;49m\u001b[38;5;241;43m*\u001b[39;49m\u001b[43mkwargs\u001b[49m\u001b[43m)\u001b[49m\n",
            "File \u001b[0;32m/Library/Frameworks/Python.framework/Versions/3.12/lib/python3.12/site-packages/xgboost/core.py:2667\u001b[0m, in \u001b[0;36mBooster.inplace_predict\u001b[0;34m(self, data, iteration_range, predict_type, missing, validate_features, base_margin, strict_shape)\u001b[0m\n\u001b[1;32m   2665\u001b[0m     data, fns, _ \u001b[38;5;241m=\u001b[39m _transform_pandas_df(data, enable_categorical)\n\u001b[1;32m   2666\u001b[0m     \u001b[38;5;28;01mif\u001b[39;00m validate_features:\n\u001b[0;32m-> 2667\u001b[0m         \u001b[38;5;28;43mself\u001b[39;49m\u001b[38;5;241;43m.\u001b[39;49m\u001b[43m_validate_features\u001b[49m\u001b[43m(\u001b[49m\u001b[43mfns\u001b[49m\u001b[43m)\u001b[49m\n\u001b[1;32m   2668\u001b[0m \u001b[38;5;28;01mif\u001b[39;00m _is_list(data) \u001b[38;5;129;01mor\u001b[39;00m _is_tuple(data):\n\u001b[1;32m   2669\u001b[0m     data \u001b[38;5;241m=\u001b[39m np\u001b[38;5;241m.\u001b[39marray(data)\n",
            "File \u001b[0;32m/Library/Frameworks/Python.framework/Versions/3.12/lib/python3.12/site-packages/xgboost/core.py:3243\u001b[0m, in \u001b[0;36mBooster._validate_features\u001b[0;34m(self, feature_names)\u001b[0m\n\u001b[1;32m   3237\u001b[0m \u001b[38;5;28;01mif\u001b[39;00m my_missing:\n\u001b[1;32m   3238\u001b[0m     msg \u001b[38;5;241m+\u001b[39m\u001b[38;5;241m=\u001b[39m (\n\u001b[1;32m   3239\u001b[0m         \u001b[38;5;124m\"\u001b[39m\u001b[38;5;130;01m\\n\u001b[39;00m\u001b[38;5;124mtraining data did not have the following fields: \u001b[39m\u001b[38;5;124m\"\u001b[39m\n\u001b[1;32m   3240\u001b[0m         \u001b[38;5;241m+\u001b[39m \u001b[38;5;124m\"\u001b[39m\u001b[38;5;124m, \u001b[39m\u001b[38;5;124m\"\u001b[39m\u001b[38;5;241m.\u001b[39mjoin(\u001b[38;5;28mstr\u001b[39m(s) \u001b[38;5;28;01mfor\u001b[39;00m s \u001b[38;5;129;01min\u001b[39;00m my_missing)\n\u001b[1;32m   3241\u001b[0m     )\n\u001b[0;32m-> 3243\u001b[0m \u001b[38;5;28;01mraise\u001b[39;00m \u001b[38;5;167;01mValueError\u001b[39;00m(msg\u001b[38;5;241m.\u001b[39mformat(\u001b[38;5;28mself\u001b[39m\u001b[38;5;241m.\u001b[39mfeature_names, feature_names))\n",
            "\u001b[0;31mValueError\u001b[0m: feature_names mismatch: ['created_hour', 'created_day_of_week', 'created_month', 'n_days_to_resolution', 'title_length', 'body_length', 'title_word_count', 'body_word_count', 'code_block_count', 'url_count', 'title_question_word_count', 'title_has_question_mark', 'body_question_word_count', 'body_has_question_mark', 'total_question_word_count', 'total_has_question_mark', 'includes_questions', 'title_n_urgent_words', 'title_has_exclamation', 'body_n_urgent_words', 'body_has_exclamation', 'total_n_urgent_words', 'total_has_exclamation', 'urgency_score', 'repo_encoded', 'tfidf_0', 'tfidf_1', 'tfidf_2', 'tfidf_3', 'tfidf_4', 'tfidf_5', 'tfidf_6', 'tfidf_7', 'tfidf_8', 'tfidf_9', 'tfidf_10', 'tfidf_11', 'tfidf_12', 'tfidf_13', 'tfidf_14', 'tfidf_15', 'tfidf_16', 'tfidf_17', 'tfidf_18', 'tfidf_19', 'tfidf_20', 'tfidf_21', 'tfidf_22', 'tfidf_23', 'tfidf_24', 'tfidf_25', 'tfidf_26', 'tfidf_27', 'tfidf_28', 'tfidf_29', 'tfidf_30', 'tfidf_31', 'tfidf_32', 'tfidf_33', 'tfidf_34', 'tfidf_35', 'tfidf_36', 'tfidf_37', 'tfidf_38', 'tfidf_39', 'tfidf_40', 'tfidf_41', 'tfidf_42', 'tfidf_43', 'tfidf_44', 'tfidf_45', 'tfidf_46', 'tfidf_47', 'tfidf_48', 'tfidf_49', 'tfidf_50', 'tfidf_51', 'tfidf_52', 'tfidf_53', 'tfidf_54', 'tfidf_55', 'tfidf_56', 'tfidf_57', 'tfidf_58', 'tfidf_59', 'tfidf_60', 'tfidf_61', 'tfidf_62', 'tfidf_63', 'tfidf_64', 'tfidf_65', 'tfidf_66', 'tfidf_67', 'tfidf_68', 'tfidf_69', 'tfidf_70', 'tfidf_71', 'tfidf_72', 'tfidf_73', 'tfidf_74', 'tfidf_75', 'tfidf_76', 'tfidf_77', 'tfidf_78', 'tfidf_79', 'tfidf_80', 'tfidf_81', 'tfidf_82', 'tfidf_83', 'tfidf_84', 'tfidf_85', 'tfidf_86', 'tfidf_87', 'tfidf_88', 'tfidf_89', 'tfidf_90', 'tfidf_91', 'tfidf_92', 'tfidf_93', 'tfidf_94', 'tfidf_95', 'tfidf_96', 'tfidf_97', 'tfidf_98', 'tfidf_99', 'tfidf_100', 'tfidf_101', 'tfidf_102', 'tfidf_103', 'tfidf_104', 'tfidf_105', 'tfidf_106', 'tfidf_107', 'tfidf_108', 'tfidf_109', 'tfidf_110', 'tfidf_111', 'tfidf_112', 'tfidf_113', 'tfidf_114', 'tfidf_115', 'tfidf_116', 'tfidf_117', 'tfidf_118', 'tfidf_119', 'tfidf_120', 'tfidf_121', 'tfidf_122', 'tfidf_123', 'tfidf_124', 'tfidf_125', 'tfidf_126', 'tfidf_127', 'tfidf_128', 'tfidf_129', 'tfidf_130', 'tfidf_131', 'tfidf_132', 'tfidf_133', 'tfidf_134', 'tfidf_135', 'tfidf_136', 'tfidf_137', 'tfidf_138', 'tfidf_139', 'tfidf_140', 'tfidf_141', 'tfidf_142', 'tfidf_143', 'tfidf_144', 'tfidf_145', 'tfidf_146', 'tfidf_147', 'tfidf_148', 'tfidf_149', 'tfidf_150', 'tfidf_151', 'tfidf_152', 'tfidf_153', 'tfidf_154', 'tfidf_155', 'tfidf_156', 'tfidf_157', 'tfidf_158', 'tfidf_159', 'tfidf_160', 'tfidf_161', 'tfidf_162', 'tfidf_163', 'tfidf_164', 'tfidf_165', 'tfidf_166', 'tfidf_167', 'tfidf_168', 'tfidf_169', 'tfidf_170', 'tfidf_171', 'tfidf_172', 'tfidf_173', 'tfidf_174', 'tfidf_175', 'tfidf_176', 'tfidf_177', 'tfidf_178', 'tfidf_179', 'tfidf_180', 'tfidf_181', 'tfidf_182', 'tfidf_183', 'tfidf_184', 'tfidf_185', 'tfidf_186', 'tfidf_187', 'tfidf_188', 'tfidf_189', 'tfidf_190', 'tfidf_191', 'tfidf_192', 'tfidf_193', 'tfidf_194', 'tfidf_195', 'tfidf_196', 'tfidf_197', 'tfidf_198', 'tfidf_199', 'tfidf_200', 'tfidf_201', 'tfidf_202', 'tfidf_203', 'tfidf_204', 'tfidf_205', 'tfidf_206', 'tfidf_207', 'tfidf_208', 'tfidf_209', 'tfidf_210', 'tfidf_211', 'tfidf_212', 'tfidf_213', 'tfidf_214', 'tfidf_215', 'tfidf_216', 'tfidf_217', 'tfidf_218', 'tfidf_219', 'tfidf_220', 'tfidf_221', 'tfidf_222', 'tfidf_223', 'tfidf_224', 'tfidf_225', 'tfidf_226', 'tfidf_227', 'tfidf_228', 'tfidf_229', 'tfidf_230', 'tfidf_231', 'tfidf_232', 'tfidf_233', 'tfidf_234', 'tfidf_235', 'tfidf_236', 'tfidf_237', 'tfidf_238', 'tfidf_239', 'tfidf_240', 'tfidf_241', 'tfidf_242', 'tfidf_243', 'tfidf_244', 'tfidf_245', 'tfidf_246', 'tfidf_247', 'tfidf_248', 'tfidf_249', 'bert_0', 'bert_1', 'bert_2', 'bert_3', 'bert_4', 'bert_5', 'bert_6', 'bert_7', 'bert_8', 'bert_9', 'bert_10', 'bert_11', 'bert_12', 'bert_13', 'bert_14', 'bert_15', 'bert_16', 'bert_17', 'bert_18', 'bert_19', 'bert_20', 'bert_21', 'bert_22', 'bert_23', 'bert_24', 'bert_25', 'bert_26', 'bert_27', 'bert_28', 'bert_29', 'bert_30', 'bert_31', 'bert_32', 'bert_33', 'bert_34', 'bert_35', 'bert_36', 'bert_37', 'bert_38', 'bert_39', 'bert_40', 'bert_41', 'bert_42', 'bert_43', 'bert_44', 'bert_45', 'bert_46', 'bert_47', 'bert_48', 'bert_49', 'bert_50', 'bert_51', 'bert_52', 'bert_53', 'bert_54', 'bert_55', 'bert_56', 'bert_57', 'bert_58', 'bert_59', 'bert_60', 'bert_61', 'bert_62', 'bert_63', 'bert_64', 'bert_65', 'bert_66', 'bert_67', 'bert_68', 'bert_69', 'bert_70', 'bert_71', 'bert_72', 'bert_73', 'bert_74', 'bert_75', 'bert_76', 'bert_77', 'bert_78', 'bert_79', 'bert_80', 'bert_81', 'bert_82', 'bert_83', 'bert_84', 'bert_85', 'bert_86', 'bert_87', 'bert_88', 'bert_89', 'bert_90', 'bert_91', 'bert_92', 'bert_93', 'bert_94', 'bert_95', 'bert_96', 'bert_97', 'bert_98', 'bert_99', 'bert_100', 'bert_101', 'bert_102', 'bert_103', 'bert_104', 'bert_105', 'bert_106', 'bert_107', 'bert_108', 'bert_109', 'bert_110', 'bert_111', 'bert_112', 'bert_113', 'bert_114', 'bert_115', 'bert_116', 'bert_117', 'bert_118', 'bert_119', 'bert_120', 'bert_121', 'bert_122', 'bert_123', 'bert_124', 'bert_125', 'bert_126', 'bert_127', 'bert_128', 'bert_129', 'bert_130', 'bert_131', 'bert_132', 'bert_133', 'bert_134', 'bert_135', 'bert_136', 'bert_137', 'bert_138', 'bert_139', 'bert_140', 'bert_141', 'bert_142', 'bert_143', 'bert_144', 'bert_145', 'bert_146', 'bert_147', 'bert_148', 'bert_149', 'bert_150', 'bert_151', 'bert_152', 'bert_153', 'bert_154', 'bert_155', 'bert_156', 'bert_157', 'bert_158', 'bert_159', 'bert_160', 'bert_161', 'bert_162', 'bert_163', 'bert_164', 'bert_165', 'bert_166', 'bert_167', 'bert_168', 'bert_169', 'bert_170', 'bert_171', 'bert_172', 'bert_173', 'bert_174', 'bert_175', 'bert_176', 'bert_177', 'bert_178', 'bert_179', 'bert_180', 'bert_181', 'bert_182', 'bert_183', 'bert_184', 'bert_185', 'bert_186', 'bert_187', 'bert_188', 'bert_189', 'bert_190', 'bert_191', 'bert_192', 'bert_193', 'bert_194', 'bert_195', 'bert_196', 'bert_197', 'bert_198', 'bert_199', 'bert_200', 'bert_201', 'bert_202', 'bert_203', 'bert_204', 'bert_205', 'bert_206', 'bert_207', 'bert_208', 'bert_209', 'bert_210', 'bert_211', 'bert_212', 'bert_213', 'bert_214', 'bert_215', 'bert_216', 'bert_217', 'bert_218', 'bert_219', 'bert_220', 'bert_221', 'bert_222', 'bert_223', 'bert_224', 'bert_225', 'bert_226', 'bert_227', 'bert_228', 'bert_229', 'bert_230', 'bert_231', 'bert_232', 'bert_233', 'bert_234', 'bert_235', 'bert_236', 'bert_237', 'bert_238', 'bert_239', 'bert_240', 'bert_241', 'bert_242', 'bert_243', 'bert_244', 'bert_245', 'bert_246', 'bert_247', 'bert_248', 'bert_249', 'bert_250', 'bert_251', 'bert_252', 'bert_253', 'bert_254', 'bert_255', 'bert_256', 'bert_257', 'bert_258', 'bert_259', 'bert_260', 'bert_261', 'bert_262', 'bert_263', 'bert_264', 'bert_265', 'bert_266', 'bert_267', 'bert_268', 'bert_269', 'bert_270', 'bert_271', 'bert_272', 'bert_273', 'bert_274', 'bert_275', 'bert_276', 'bert_277', 'bert_278', 'bert_279', 'bert_280', 'bert_281', 'bert_282', 'bert_283', 'bert_284', 'bert_285', 'bert_286', 'bert_287', 'bert_288', 'bert_289', 'bert_290', 'bert_291', 'bert_292', 'bert_293', 'bert_294', 'bert_295', 'bert_296', 'bert_297', 'bert_298', 'bert_299', 'bert_300', 'bert_301', 'bert_302', 'bert_303', 'bert_304', 'bert_305', 'bert_306', 'bert_307', 'bert_308', 'bert_309', 'bert_310', 'bert_311', 'bert_312', 'bert_313', 'bert_314', 'bert_315', 'bert_316', 'bert_317', 'bert_318', 'bert_319', 'bert_320', 'bert_321', 'bert_322', 'bert_323', 'bert_324', 'bert_325', 'bert_326', 'bert_327', 'bert_328', 'bert_329', 'bert_330', 'bert_331', 'bert_332', 'bert_333', 'bert_334', 'bert_335', 'bert_336', 'bert_337', 'bert_338', 'bert_339', 'bert_340', 'bert_341', 'bert_342', 'bert_343', 'bert_344', 'bert_345', 'bert_346', 'bert_347', 'bert_348', 'bert_349', 'bert_350', 'bert_351', 'bert_352', 'bert_353', 'bert_354', 'bert_355', 'bert_356', 'bert_357', 'bert_358', 'bert_359', 'bert_360', 'bert_361', 'bert_362', 'bert_363', 'bert_364', 'bert_365', 'bert_366', 'bert_367', 'bert_368', 'bert_369', 'bert_370', 'bert_371', 'bert_372', 'bert_373', 'bert_374', 'bert_375', 'bert_376', 'bert_377', 'bert_378', 'bert_379', 'bert_380', 'bert_381', 'bert_382', 'bert_383'] ['n_labels', 'has_bug_label', 'has_good_first_issue_label', 'has_help_wanted_label', 'has_enhancement_label', 'has_documentation_label', 'has_stale_label', 'has_waiting_for_customer_response_label', 'has_regression_label', 'has_question_label', 'has_needs_triage_label', 'has_issue__confirmed_label', 'has_type__bug_label', 'has_fixed_label', 'has_topic_editor_label', 'has_docs_label', 'has_confirmed_label', 'has_in_triage_label', 'has_customer_reported_label', 'has_client_label', 'has_inactive_label', 'has_type_bug_label', 'has_p2_label', 'has_archived_label', 'has_backlog_label', 'created_hour', 'created_day_of_week', 'created_month', 'n_days_to_resolution', 'title_length', 'body_length', 'title_word_count', 'body_word_count', 'has_code_blocks', 'code_block_count', 'url_count', 'has_urls', 'title_question_word_count', 'title_has_question_mark', 'body_question_word_count', 'body_has_question_mark', 'total_question_word_count', 'total_has_question_mark', 'includes_questions', 'title_n_urgent_words', 'title_has_exclamation', 'body_n_urgent_words', 'body_has_exclamation', 'total_n_urgent_words', 'total_has_exclamation', 'urgency_score', 'repo_encoded', 'tfidf_0', 'tfidf_1', 'tfidf_2', 'tfidf_3', 'tfidf_4', 'tfidf_5', 'tfidf_6', 'tfidf_7', 'tfidf_8', 'tfidf_9', 'tfidf_10', 'tfidf_11', 'tfidf_12', 'tfidf_13', 'tfidf_14', 'tfidf_15', 'tfidf_16', 'tfidf_17', 'tfidf_18', 'tfidf_19', 'tfidf_20', 'tfidf_21', 'tfidf_22', 'tfidf_23', 'tfidf_24', 'tfidf_25', 'tfidf_26', 'tfidf_27', 'tfidf_28', 'tfidf_29', 'tfidf_30', 'tfidf_31', 'tfidf_32', 'tfidf_33', 'tfidf_34', 'tfidf_35', 'tfidf_36', 'tfidf_37', 'tfidf_38', 'tfidf_39', 'tfidf_40', 'tfidf_41', 'tfidf_42', 'tfidf_43', 'tfidf_44', 'tfidf_45', 'tfidf_46', 'tfidf_47', 'tfidf_48', 'tfidf_49', 'tfidf_50', 'tfidf_51', 'tfidf_52', 'tfidf_53', 'tfidf_54', 'tfidf_55', 'tfidf_56', 'tfidf_57', 'tfidf_58', 'tfidf_59', 'tfidf_60', 'tfidf_61', 'tfidf_62', 'tfidf_63', 'tfidf_64', 'tfidf_65', 'tfidf_66', 'tfidf_67', 'tfidf_68', 'tfidf_69', 'tfidf_70', 'tfidf_71', 'tfidf_72', 'tfidf_73', 'tfidf_74', 'tfidf_75', 'tfidf_76', 'tfidf_77', 'tfidf_78', 'tfidf_79', 'tfidf_80', 'tfidf_81', 'tfidf_82', 'tfidf_83', 'tfidf_84', 'tfidf_85', 'tfidf_86', 'tfidf_87', 'tfidf_88', 'tfidf_89', 'tfidf_90', 'tfidf_91', 'tfidf_92', 'tfidf_93', 'tfidf_94', 'tfidf_95', 'tfidf_96', 'tfidf_97', 'tfidf_98', 'tfidf_99', 'tfidf_100', 'tfidf_101', 'tfidf_102', 'tfidf_103', 'tfidf_104', 'tfidf_105', 'tfidf_106', 'tfidf_107', 'tfidf_108', 'tfidf_109', 'tfidf_110', 'tfidf_111', 'tfidf_112', 'tfidf_113', 'tfidf_114', 'tfidf_115', 'tfidf_116', 'tfidf_117', 'tfidf_118', 'tfidf_119', 'tfidf_120', 'tfidf_121', 'tfidf_122', 'tfidf_123', 'tfidf_124', 'tfidf_125', 'tfidf_126', 'tfidf_127', 'tfidf_128', 'tfidf_129', 'tfidf_130', 'tfidf_131', 'tfidf_132', 'tfidf_133', 'tfidf_134', 'tfidf_135', 'tfidf_136', 'tfidf_137', 'tfidf_138', 'tfidf_139', 'tfidf_140', 'tfidf_141', 'tfidf_142', 'tfidf_143', 'tfidf_144', 'tfidf_145', 'tfidf_146', 'tfidf_147', 'tfidf_148', 'tfidf_149', 'tfidf_150', 'tfidf_151', 'tfidf_152', 'tfidf_153', 'tfidf_154', 'tfidf_155', 'tfidf_156', 'tfidf_157', 'tfidf_158', 'tfidf_159', 'tfidf_160', 'tfidf_161', 'tfidf_162', 'tfidf_163', 'tfidf_164', 'tfidf_165', 'tfidf_166', 'tfidf_167', 'tfidf_168', 'tfidf_169', 'tfidf_170', 'tfidf_171', 'tfidf_172', 'tfidf_173', 'tfidf_174', 'tfidf_175', 'tfidf_176', 'tfidf_177', 'tfidf_178', 'tfidf_179', 'tfidf_180', 'tfidf_181', 'tfidf_182', 'tfidf_183', 'tfidf_184', 'tfidf_185', 'tfidf_186', 'tfidf_187', 'tfidf_188', 'tfidf_189', 'tfidf_190', 'tfidf_191', 'tfidf_192', 'tfidf_193', 'tfidf_194', 'tfidf_195', 'tfidf_196', 'tfidf_197', 'tfidf_198', 'tfidf_199', 'tfidf_200', 'tfidf_201', 'tfidf_202', 'tfidf_203', 'tfidf_204', 'tfidf_205', 'tfidf_206', 'tfidf_207', 'tfidf_208', 'tfidf_209', 'tfidf_210', 'tfidf_211', 'tfidf_212', 'tfidf_213', 'tfidf_214', 'tfidf_215', 'tfidf_216', 'tfidf_217', 'tfidf_218', 'tfidf_219', 'tfidf_220', 'tfidf_221', 'tfidf_222', 'tfidf_223', 'tfidf_224', 'tfidf_225', 'tfidf_226', 'tfidf_227', 'tfidf_228', 'tfidf_229', 'tfidf_230', 'tfidf_231', 'tfidf_232', 'tfidf_233', 'tfidf_234', 'tfidf_235', 'tfidf_236', 'tfidf_237', 'tfidf_238', 'tfidf_239', 'tfidf_240', 'tfidf_241', 'tfidf_242', 'tfidf_243', 'tfidf_244', 'tfidf_245', 'tfidf_246', 'tfidf_247', 'tfidf_248', 'tfidf_249', 'bert_0', 'bert_1', 'bert_2', 'bert_3', 'bert_4', 'bert_5', 'bert_6', 'bert_7', 'bert_8', 'bert_9', 'bert_10', 'bert_11', 'bert_12', 'bert_13', 'bert_14', 'bert_15', 'bert_16', 'bert_17', 'bert_18', 'bert_19', 'bert_20', 'bert_21', 'bert_22', 'bert_23', 'bert_24', 'bert_25', 'bert_26', 'bert_27', 'bert_28', 'bert_29', 'bert_30', 'bert_31', 'bert_32', 'bert_33', 'bert_34', 'bert_35', 'bert_36', 'bert_37', 'bert_38', 'bert_39', 'bert_40', 'bert_41', 'bert_42', 'bert_43', 'bert_44', 'bert_45', 'bert_46', 'bert_47', 'bert_48', 'bert_49', 'bert_50', 'bert_51', 'bert_52', 'bert_53', 'bert_54', 'bert_55', 'bert_56', 'bert_57', 'bert_58', 'bert_59', 'bert_60', 'bert_61', 'bert_62', 'bert_63', 'bert_64', 'bert_65', 'bert_66', 'bert_67', 'bert_68', 'bert_69', 'bert_70', 'bert_71', 'bert_72', 'bert_73', 'bert_74', 'bert_75', 'bert_76', 'bert_77', 'bert_78', 'bert_79', 'bert_80', 'bert_81', 'bert_82', 'bert_83', 'bert_84', 'bert_85', 'bert_86', 'bert_87', 'bert_88', 'bert_89', 'bert_90', 'bert_91', 'bert_92', 'bert_93', 'bert_94', 'bert_95', 'bert_96', 'bert_97', 'bert_98', 'bert_99', 'bert_100', 'bert_101', 'bert_102', 'bert_103', 'bert_104', 'bert_105', 'bert_106', 'bert_107', 'bert_108', 'bert_109', 'bert_110', 'bert_111', 'bert_112', 'bert_113', 'bert_114', 'bert_115', 'bert_116', 'bert_117', 'bert_118', 'bert_119', 'bert_120', 'bert_121', 'bert_122', 'bert_123', 'bert_124', 'bert_125', 'bert_126', 'bert_127', 'bert_128', 'bert_129', 'bert_130', 'bert_131', 'bert_132', 'bert_133', 'bert_134', 'bert_135', 'bert_136', 'bert_137', 'bert_138', 'bert_139', 'bert_140', 'bert_141', 'bert_142', 'bert_143', 'bert_144', 'bert_145', 'bert_146', 'bert_147', 'bert_148', 'bert_149', 'bert_150', 'bert_151', 'bert_152', 'bert_153', 'bert_154', 'bert_155', 'bert_156', 'bert_157', 'bert_158', 'bert_159', 'bert_160', 'bert_161', 'bert_162', 'bert_163', 'bert_164', 'bert_165', 'bert_166', 'bert_167', 'bert_168', 'bert_169', 'bert_170', 'bert_171', 'bert_172', 'bert_173', 'bert_174', 'bert_175', 'bert_176', 'bert_177', 'bert_178', 'bert_179', 'bert_180', 'bert_181', 'bert_182', 'bert_183', 'bert_184', 'bert_185', 'bert_186', 'bert_187', 'bert_188', 'bert_189', 'bert_190', 'bert_191', 'bert_192', 'bert_193', 'bert_194', 'bert_195', 'bert_196', 'bert_197', 'bert_198', 'bert_199', 'bert_200', 'bert_201', 'bert_202', 'bert_203', 'bert_204', 'bert_205', 'bert_206', 'bert_207', 'bert_208', 'bert_209', 'bert_210', 'bert_211', 'bert_212', 'bert_213', 'bert_214', 'bert_215', 'bert_216', 'bert_217', 'bert_218', 'bert_219', 'bert_220', 'bert_221', 'bert_222', 'bert_223', 'bert_224', 'bert_225', 'bert_226', 'bert_227', 'bert_228', 'bert_229', 'bert_230', 'bert_231', 'bert_232', 'bert_233', 'bert_234', 'bert_235', 'bert_236', 'bert_237', 'bert_238', 'bert_239', 'bert_240', 'bert_241', 'bert_242', 'bert_243', 'bert_244', 'bert_245', 'bert_246', 'bert_247', 'bert_248', 'bert_249', 'bert_250', 'bert_251', 'bert_252', 'bert_253', 'bert_254', 'bert_255', 'bert_256', 'bert_257', 'bert_258', 'bert_259', 'bert_260', 'bert_261', 'bert_262', 'bert_263', 'bert_264', 'bert_265', 'bert_266', 'bert_267', 'bert_268', 'bert_269', 'bert_270', 'bert_271', 'bert_272', 'bert_273', 'bert_274', 'bert_275', 'bert_276', 'bert_277', 'bert_278', 'bert_279', 'bert_280', 'bert_281', 'bert_282', 'bert_283', 'bert_284', 'bert_285', 'bert_286', 'bert_287', 'bert_288', 'bert_289', 'bert_290', 'bert_291', 'bert_292', 'bert_293', 'bert_294', 'bert_295', 'bert_296', 'bert_297', 'bert_298', 'bert_299', 'bert_300', 'bert_301', 'bert_302', 'bert_303', 'bert_304', 'bert_305', 'bert_306', 'bert_307', 'bert_308', 'bert_309', 'bert_310', 'bert_311', 'bert_312', 'bert_313', 'bert_314', 'bert_315', 'bert_316', 'bert_317', 'bert_318', 'bert_319', 'bert_320', 'bert_321', 'bert_322', 'bert_323', 'bert_324', 'bert_325', 'bert_326', 'bert_327', 'bert_328', 'bert_329', 'bert_330', 'bert_331', 'bert_332', 'bert_333', 'bert_334', 'bert_335', 'bert_336', 'bert_337', 'bert_338', 'bert_339', 'bert_340', 'bert_341', 'bert_342', 'bert_343', 'bert_344', 'bert_345', 'bert_346', 'bert_347', 'bert_348', 'bert_349', 'bert_350', 'bert_351', 'bert_352', 'bert_353', 'bert_354', 'bert_355', 'bert_356', 'bert_357', 'bert_358', 'bert_359', 'bert_360', 'bert_361', 'bert_362', 'bert_363', 'bert_364', 'bert_365', 'bert_366', 'bert_367', 'bert_368', 'bert_369', 'bert_370', 'bert_371', 'bert_372', 'bert_373', 'bert_374', 'bert_375', 'bert_376', 'bert_377', 'bert_378', 'bert_379', 'bert_380', 'bert_381', 'bert_382', 'bert_383']\ntraining data did not have the following fields: has_client_label, has_bug_label, has_regression_label, has_p2_label, has_enhancement_label, has_backlog_label, has_help_wanted_label, has_issue__confirmed_label, has_needs_triage_label, has_type__bug_label, has_stale_label, has_waiting_for_customer_response_label, has_good_first_issue_label, has_urls, has_inactive_label, has_question_label, has_code_blocks, has_confirmed_label, has_archived_label, has_type_bug_label, has_customer_reported_label, n_labels, has_topic_editor_label, has_docs_label, has_documentation_label, has_in_triage_label, has_fixed_label"
          ]
        }
      ],
      "source": [
        "# 8) Quick verification snippet for UI-like prediction\n",
        "from smart_triage import SmartIssueTriage\n",
        "\n",
        "triage = SmartIssueTriage(model_dir=OUTPUT_DIR)\n",
        "\n",
        "sample_title = \"Error in login flow: users cannot reset password\"\n",
        "sample_body = \"Users report password reset links error out with 500. Happens since v2.3.\"\n",
        "# pick a repo from the fitted encoder classes for a valid mapping\n",
        "sample_repo = repo_encoder.classes_[0]\n",
        "\n",
        "result = triage.predict(\n",
        "    title=sample_title,\n",
        "    body=sample_body,\n",
        "    repo=sample_repo,\n",
        "    threshold=0.35\n",
        ")\n",
        "\n",
        "print(json.dumps(result, indent=2)[:2000])\n"
      ]
    },
    {
      "cell_type": "code",
      "execution_count": null,
      "metadata": {},
      "outputs": [],
      "source": []
    }
  ],
  "metadata": {
    "kernelspec": {
      "display_name": "Python 3",
      "language": "python",
      "name": "python3"
    },
    "language_info": {
      "codemirror_mode": {
        "name": "ipython",
        "version": 3
      },
      "file_extension": ".py",
      "mimetype": "text/x-python",
      "name": "python",
      "nbconvert_exporter": "python",
      "pygments_lexer": "ipython3",
      "version": "3.12.8"
    }
  },
  "nbformat": 4,
  "nbformat_minor": 2
}
