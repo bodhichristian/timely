{
 "cells": [
  {
   "cell_type": "markdown",
   "id": "1c29a75b0947f616",
   "metadata": {},
   "source": [
    "# Model Selection\n",
    "\n",
    "Leveraging the dataset found in github_issues_processed.csv we are going to train an ML model capable of making predictions for issue category as well as issue labels.\n",
    "\n",
    "This is a step towards a predictive experience for users that are submitting a GitHub issue. after the user has update the title and body of the issue report, issue category will be predicted and recommended with a confidence score. the user will also be presented with up to 3 label suggestions for the issue, each presented with a confidence score."
   ]
  },
  {
   "cell_type": "markdown",
   "id": "d0f5b96e28403bb3",
   "metadata": {},
   "source": [
    "### Import and Setup"
   ]
  },
  {
   "cell_type": "code",
   "execution_count": 34,
   "id": "95605874e5a73995",
   "metadata": {
    "ExecuteTime": {
     "end_time": "2025-08-17T23:53:43.736552Z",
     "start_time": "2025-08-17T23:53:42.666543Z"
    }
   },
   "outputs": [],
   "source": [
    "import pandas as pd\n",
    "from sklearn.model_selection import train_test_split\n",
    "from sklearn.feature_extraction.text import TfidfVectorizer\n",
    "from sklearn.compose import ColumnTransformer\n",
    "from imblearn.pipeline import Pipeline\n",
    "from sklearn.preprocessing import StandardScaler\n",
    "from sklearn.metrics import classification_report\n",
    "from sklearn.pipeline import make_pipeline\n",
    "from imblearn.over_sampling import RandomOverSampler\n",
    "\n",
    "\n",
    "from sklearn.linear_model import LogisticRegression\n",
    "from sklearn.ensemble import RandomForestClassifier\n",
    "from sklearn.multiclass import OneVsRestClassifier\n",
    "\n",
    "df = pd.read_csv(\"github_issues_processed.csv\")"
   ]
  },
  {
   "cell_type": "markdown",
   "id": "8fc8614e9118879b",
   "metadata": {},
   "source": [
    "### Define targets, drop source and helper features"
   ]
  },
  {
   "cell_type": "code",
   "execution_count": 35,
   "id": "ebb007982180ebb5",
   "metadata": {
    "ExecuteTime": {
     "end_time": "2025-08-17T23:49:19.278714Z",
     "start_time": "2025-08-17T23:49:19.191716Z"
    }
   },
   "outputs": [],
   "source": [
    "# Category target\n",
    "cat_targets = [\n",
    "    \"is_bug_cat\",\"is_feature_cat\",\"is_doc_cat\",\n",
    "    \"is_help_cat\",\"is_priority_cat\",\"is_status_cat\"\n",
    "]\n",
    "df[\"category\"] = df[cat_targets].idxmax(axis=1)\n",
    "\n",
    "# Label targets\n",
    "label_targets = [\n",
    "    col for col in df.columns if col.startswith(\"has_\")\n",
    "]\n",
    "\n",
    "# Features (exclude targets + helper counts like n_labels)\n",
    "exclude = cat_targets + label_targets + [\"n_labels\", \"category\"]\n",
    "X = df.drop(columns=exclude)\n",
    "y_cat = df[\"category\"]\n",
    "y_labels = df[label_targets]"
   ]
  },
  {
   "cell_type": "markdown",
   "id": "c327325b",
   "metadata": {},
   "source": [
    "### Split data for training and testing"
   ]
  },
  {
   "cell_type": "code",
   "execution_count": 36,
   "id": "eeab095c",
   "metadata": {},
   "outputs": [],
   "source": [
    "# Train/test split\n",
    "X_train, X_test, y_cat_train, y_cat_test, y_labels_train, y_labels_test = train_test_split(\n",
    "    X, y_cat, y_labels, test_size=0.2, random_state=42, stratify=y_cat)"
   ]
  },
  {
   "cell_type": "markdown",
   "id": "ce8806da",
   "metadata": {},
   "source": [
    "### Category Prediction"
   ]
  },
  {
   "cell_type": "code",
   "execution_count": null,
   "id": "41286a1b",
   "metadata": {},
   "outputs": [],
   "source": [
    "# --- Logistic Regression with RandomOverSampler ---\n",
    "ros = RandomOverSampler(random_state=42)\n",
    "\n",
    "cat_lr_ros = Pipeline([\n",
    "    ('scaler', StandardScaler(with_mean=False)),  # safe for sparse/high-dim embeddings\n",
    "    ('oversample', ros),\n",
    "    ('logreg', LogisticRegression(\n",
    "        max_iter=5000,\n",
    "        solver=\"saga\",\n",
    "        class_weight=\"balanced\",\n",
    "        n_jobs=-1\n",
    "    ))\n",
    "])\n",
    "\n",
    "cat_lr_ros.fit(X_train, y_cat_train)\n",
    "y_pred_lr = cat_lr_ros.predict(X_test)\n",
    "\n",
    "print(\"Logistic Regression with RandomOverSampler\")\n",
    "print(classification_report(y_cat_test, y_pred_lr, zero_division=0))\n",
    "\n",
    "# --- Random Forest with RandomOverSampler ---\n",
    "cat_rf_ros = Pipeline([\n",
    "    ('oversample', ros),\n",
    "    ('rf', RandomForestClassifier(\n",
    "        n_estimators=500,\n",
    "        random_state=42,\n",
    "        class_weight=\"balanced_subsample\",\n",
    "        n_jobs=-1\n",
    "    ))\n",
    "])\n",
    "\n",
    "cat_rf_ros.fit(X_train, y_cat_train)\n",
    "y_pred_rf = cat_rf_ros.predict(X_test)\n",
    "\n",
    "print(\"Random Forest with RandomOverSampler\")\n",
    "print(classification_report(y_cat_test, y_pred_rf, zero_division=0))"
   ]
  }
 ],
 "metadata": {
  "kernelspec": {
   "display_name": "Python 3",
   "language": "python",
   "name": "python3"
  },
  "language_info": {
   "codemirror_mode": {
    "name": "ipython",
    "version": 3
   },
   "file_extension": ".py",
   "mimetype": "text/x-python",
   "name": "python",
   "nbconvert_exporter": "python",
   "pygments_lexer": "ipython3",
   "version": "3.12.8"
  }
 },
 "nbformat": 4,
 "nbformat_minor": 5
}
